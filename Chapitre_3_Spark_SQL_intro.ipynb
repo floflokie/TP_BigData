{
  "nbformat": 4,
  "nbformat_minor": 0,
  "metadata": {
    "colab": {
      "provenance": [],
      "include_colab_link": true
    },
    "kernelspec": {
      "name": "python3",
      "display_name": "Python 3"
    },
    "language_info": {
      "name": "python"
    }
  },
  "cells": [
    {
      "cell_type": "markdown",
      "metadata": {
        "id": "view-in-github",
        "colab_type": "text"
      },
      "source": [
        "<a href=\"https://colab.research.google.com/github/floflokie/TP_BigData/blob/main/Chapitre_3_Spark_SQL_intro.ipynb\" target=\"_parent\"><img src=\"https://colab.research.google.com/assets/colab-badge.svg\" alt=\"Open In Colab\"/></a>"
      ]
    },
    {
      "cell_type": "markdown",
      "source": [
        "# TP : Spark SQL"
      ],
      "metadata": {
        "id": "lIwvRHyK0BfF"
      }
    },
    {
      "cell_type": "markdown",
      "source": [
        "Imagine you're analyzing sales data for a retail company. You need to answer questions like: \"What is the average order value per customer?\" and \"Which products are most popular in each region?\"\n",
        "\n",
        "By using Spark SQL to query structured data in a DataFrame, you can efficiently analyze large datasets that would be cumbersome with traditional SQL."
      ],
      "metadata": {
        "id": "gmCX_EC25vSC"
      }
    },
    {
      "cell_type": "code",
      "execution_count": 1,
      "metadata": {
        "colab": {
          "base_uri": "https://localhost:8080/"
        },
        "id": "PhVk7YwuznYx",
        "outputId": "9553a4ee-2dc9-4b69-ef79-918cb7d6997a"
      },
      "outputs": [
        {
          "output_type": "stream",
          "name": "stderr",
          "text": [
            "<ipython-input-1-6053c13f21be>:10: FutureWarning: 'T' is deprecated and will be removed in a future version, please use 'min' instead.\n",
            "  'date': pd.date_range(start=\"2021-01-01\", periods=500000, freq='T').to_numpy(),\n"
          ]
        }
      ],
      "source": [
        "import pandas as pd\n",
        "import numpy as np\n",
        "\n",
        "# Generate a fake dataset\n",
        "data = {\n",
        "    'transaction_id': np.arange(1, 500001),\n",
        "    'product_id': np.random.randint(1, 1000, 500000),\n",
        "    'product_category': np.random.choice(['Electronics', 'Clothing', 'Books'], 500000),\n",
        "    'region': np.random.choice(['North', 'South', 'East', 'West'], 500000),\n",
        "    'date': pd.date_range(start=\"2021-01-01\", periods=500000, freq='T').to_numpy(),\n",
        "    'units_sold': np.random.randint(1, 10, 500000),\n",
        "    'price_per_unit': np.round(np.random.uniform(5.0, 500.0, 500000), 2)\n",
        "}\n",
        "df = pd.DataFrame(data)"
      ]
    },
    {
      "cell_type": "markdown",
      "source": [
        "TODO: convert to Spark Dataframe"
      ],
      "metadata": {
        "id": "DxwKW-PW0MDj"
      }
    },
    {
      "cell_type": "code",
      "source": [
        "from pyspark.sql import SparkSession\n",
        "\n",
        "spark = SparkSession.builder.appName(\"Sales Analysis\").getOrCreate()"
      ],
      "metadata": {
        "id": "hyOCodmhq1lx"
      },
      "execution_count": 2,
      "outputs": []
    },
    {
      "cell_type": "code",
      "source": [
        "sales_df = spark.createDataFrame(df)"
      ],
      "metadata": {
        "id": "t_KX35o1sOph"
      },
      "execution_count": 3,
      "outputs": []
    },
    {
      "cell_type": "markdown",
      "source": [
        "TODO: Register DataFrame as a SQL temporary view to be able to write queries\n"
      ],
      "metadata": {
        "id": "LICuFa-qrOQF"
      }
    },
    {
      "cell_type": "code",
      "source": [
        "sales_df.registerTempTable(\"sales\")"
      ],
      "metadata": {
        "id": "rwMMacharPcJ",
        "outputId": "ed957517-6ce5-411f-a8c3-9dc9795e5e11",
        "colab": {
          "base_uri": "https://localhost:8080/"
        }
      },
      "execution_count": 4,
      "outputs": [
        {
          "output_type": "stream",
          "name": "stderr",
          "text": [
            "/usr/local/lib/python3.10/dist-packages/pyspark/sql/dataframe.py:329: FutureWarning: Deprecated in 2.0, use createOrReplaceTempView instead.\n",
            "  warnings.warn(\"Deprecated in 2.0, use createOrReplaceTempView instead.\", FutureWarning)\n"
          ]
        }
      ]
    },
    {
      "cell_type": "code",
      "source": [
        "spark.sql(\"\"\"\n",
        "    SELECT region, product_category, SUM(units_sold * price_per_unit) AS total_sales\n",
        "    FROM sales\n",
        "    GROUP BY region, product_category\n",
        "    ORDER BY total_sales DESC\n",
        "\"\"\").show()\n"
      ],
      "metadata": {
        "colab": {
          "base_uri": "https://localhost:8080/"
        },
        "id": "HTZma6fs0TPo",
        "outputId": "f5420e3d-9045-4ca0-c650-d9fd4af669f7"
      },
      "execution_count": 5,
      "outputs": [
        {
          "output_type": "stream",
          "name": "stdout",
          "text": [
            "+------+----------------+--------------------+\n",
            "|region|product_category|         total_sales|\n",
            "+------+----------------+--------------------+\n",
            "|  West|           Books| 5.293862394999991E7|\n",
            "| North|           Books|5.2936714270000115E7|\n",
            "|  East|           Books|5.2868406039999954E7|\n",
            "| North|        Clothing| 5.269190509000005E7|\n",
            "|  East|        Clothing| 5.262250680999987E7|\n",
            "|  West|     Electronics|5.2618212639999926E7|\n",
            "| South|     Electronics| 5.259139255999991E7|\n",
            "| South|           Books| 5.256330692000005E7|\n",
            "|  West|        Clothing| 5.240502004999998E7|\n",
            "|  East|     Electronics| 5.240054752000001E7|\n",
            "| North|     Electronics| 5.204253912999967E7|\n",
            "| South|        Clothing|5.2028716859999925E7|\n",
            "+------+----------------+--------------------+\n",
            "\n"
          ]
        }
      ]
    },
    {
      "cell_type": "markdown",
      "source": [
        "TODO : write and execute query to get the top 5 products by sales"
      ],
      "metadata": {
        "id": "9tqn8S4A0ZXX"
      }
    },
    {
      "cell_type": "code",
      "source": [
        "spark.sql(\"\"\"\n",
        "    SELECT product_id, SUM(units_sold * price_per_unit) AS total_sales\n",
        "    FROM sales\n",
        "    GROUP BY product_id\n",
        "    ORDER BY total_sales DESC\n",
        "    LIMIT 5\n",
        "\"\"\").show()"
      ],
      "metadata": {
        "colab": {
          "base_uri": "https://localhost:8080/"
        },
        "id": "3LLc6fQ_0Wka",
        "outputId": "e65e25ca-e1c1-49ee-f3e9-cb945a27142b"
      },
      "execution_count": 6,
      "outputs": [
        {
          "output_type": "stream",
          "name": "stdout",
          "text": [
            "+----------+-----------------+\n",
            "|product_id|      total_sales|\n",
            "+----------+-----------------+\n",
            "|       999|        737270.54|\n",
            "|       825|734966.1000000001|\n",
            "|        81|733931.3700000001|\n",
            "|       186|        733395.74|\n",
            "|       522|732284.5000000002|\n",
            "+----------+-----------------+\n",
            "\n"
          ]
        }
      ]
    }
  ]
}