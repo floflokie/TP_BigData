{
  "nbformat": 4,
  "nbformat_minor": 0,
  "metadata": {
    "colab": {
      "provenance": [],
      "include_colab_link": true
    },
    "kernelspec": {
      "name": "python3",
      "display_name": "Python 3"
    },
    "language_info": {
      "name": "python"
    }
  },
  "cells": [
    {
      "cell_type": "markdown",
      "metadata": {
        "id": "view-in-github",
        "colab_type": "text"
      },
      "source": [
        "<a href=\"https://colab.research.google.com/github/floflokie/TP_BigData/blob/main/Chapitre_1_MapReduce.ipynb\" target=\"_parent\"><img src=\"https://colab.research.google.com/assets/colab-badge.svg\" alt=\"Open In Colab\"/></a>"
      ]
    },
    {
      "cell_type": "markdown",
      "source": [
        "# TP : Simplified MapReduce"
      ],
      "metadata": {
        "id": "qQJjRQYe5f3_"
      }
    },
    {
      "cell_type": "markdown",
      "source": [
        "In this scenario, imagine you’re working for a popular e-commerce site.\n",
        "\n",
        "Understanding when traffic is at its peak helps inform decisions about server scaling, marketing strategies, and customer support. The MapReduce job here processes large volumes of server logs to extract hourly traffic counts, providing insights into which times see the most user activity.\n",
        "\n",
        "By analyzing page visit counts, the company can optimize popular pages, adjust advertising placements, and improve user experience on high-traffic pages. This MapReduce job counts the number of times each URL is accessed, revealing the most visited pages.\n",
        "\n",
        "Understanding user engagement helps tailor site features and marketing efforts. The goal is to calculate the mean session duration for each unique user, indicating how long users are staying and engaging with the website’s content.\n",
        "\n",
        "By tracking error response codes (like 404 or 500) associated with URLs, the company can prioritize bug fixes and improve user experience on critical pages. This analysis supports backend optimization by isolating pages where users encounter issues.\n",
        "\n",
        "\n",
        "1. \"Using the traffic data, at what time does the website experience its peak load, and how can this insight guide server capacity planning?\"\n",
        "\n",
        "Mapper: Extracts the hour from each timestamp and emits a (hour, 1) pair.\n",
        "Reducer: Aggregates the counts by hour, outputting {hour: request_count, ...} to show peak traffic times.\n",
        "\n",
        "2. \"What are the top 3 most-visited pages on the site, and how could this information affect design decisions?\"\n",
        "\n",
        "Mapper: Maps each URL from a log entry to (url, 1).\n",
        "Reducer: Aggregates counts per URL, resulting in {url: visit_count, ...} for a popularity ranking of pages.\n",
        "\n",
        "3. \"Which users show the highest average session durations, and what might this suggest about their engagement levels?\"\n",
        "\n",
        "Mapper: Maps each user ID to (user_id, session_duration) from each log entry.\n",
        "Reducer: Aggregates the durations by user, providing {user_id: average_duration, ...} for understanding user engagement patterns.\n",
        "\n",
        "4. \"Which URLs have the highest error rates, and how should the engineering team prioritize fixes?\"\n",
        "\n",
        "Mapper: Maps URLs with error response codes (>=400) to (url, 1).\n",
        "Reducer: Counts errors per URL, yielding {url: error_count, ...} to identify problematic pages needing attention.\n",
        "\n",
        "Since we’re using Google Colab with limited resources, the MapReduce operations can be simulated simulated, applying the mapper and reducer logic, and printing the results."
      ],
      "metadata": {
        "id": "aI70b3al4fcK"
      }
    },
    {
      "cell_type": "code",
      "execution_count": 10,
      "metadata": {
        "id": "sGv_o2052wvI"
      },
      "outputs": [],
      "source": [
        "import random\n",
        "from datetime import datetime, timedelta\n",
        "import pandas as pd\n",
        "\n",
        "# Parameters\n",
        "num_records = 10000\n",
        "user_ids = [f\"user_{i:03}\" for i in range(1, 101)]\n",
        "urls = [\"/home\", \"/products\", \"/contact\", \"/about\", \"/cart\", \"/checkout\"]\n",
        "response_codes = [200, 200, 200, 404, 500]  # Higher chance of 200 for realistic data\n",
        "ip_addresses = [f\"192.168.1.{i}\" for i in range(1, 101)]\n",
        "user_agents = [\"Mozilla/5.0\", \"Chrome/90.0\", \"Safari/537.36\", \"Edge/85.0\"]\n",
        "\n",
        "# Function to generate random timestamp\n",
        "def random_timestamp(start, end):\n",
        "    return (start + timedelta(seconds=random.randint(0, int((end - start).total_seconds())))).isoformat()\n",
        "\n",
        "# Data generation\n",
        "data = []\n",
        "start_time = datetime(2023, 1, 1)\n",
        "end_time = datetime(2023, 10, 1)\n",
        "\n",
        "for _ in range(num_records):\n",
        "    log_entry = {\n",
        "        \"timestamp\": random_timestamp(start_time, end_time),\n",
        "        \"user_id\": random.choice(user_ids),\n",
        "        \"ip_address\": random.choice(ip_addresses),\n",
        "        \"url\": random.choice(urls),\n",
        "        \"response_code\": random.choice(response_codes),\n",
        "        \"session_duration\": random.randint(10, 300),  # in seconds\n",
        "        \"user_agent\": random.choice(user_agents)\n",
        "    }\n",
        "    data.append(log_entry)\n"
      ]
    },
    {
      "cell_type": "markdown",
      "source": [
        "TODO : convert \"data\" list to pandas DataFrame"
      ],
      "metadata": {
        "id": "Dt7XauHp3cur"
      }
    },
    {
      "cell_type": "code",
      "source": [
        "df = pd.DataFrame(data)"
      ],
      "metadata": {
        "id": "EH77_WMB3gvc"
      },
      "execution_count": 11,
      "outputs": []
    },
    {
      "cell_type": "markdown",
      "source": [
        "TODO :\n",
        "\n",
        "Peak Traffic Analysis: Identify the busiest hours.\n",
        "\n",
        "Most Visited Pages: Count visits per URL.\n",
        "\n",
        "Average Session Duration: Calculate average session duration per user.\n",
        "\n",
        "Error Rate: Track and analyze URLs with high error response rates (e.g., 404 or 500).\n",
        "\n",
        "Fill in the blanks in the code"
      ],
      "metadata": {
        "id": "8YghPfzS25dV"
      }
    },
    {
      "cell_type": "code",
      "source": [
        "from datetime import datetime\n",
        "from collections import defaultdict\n",
        "\n",
        "def traffic_mapper(line):\n",
        "    fields = line.strip().split(\",\")\n",
        "    timestamp = fields[0]\n",
        "    hour = timestamp.split(\"T\")[1].split(\":\")[0]\n",
        "    yield (hour, 1)\n",
        "\n",
        "def traffic_reducer(mapped_data):\n",
        "    hour_counts = defaultdict(int)\n",
        "    for hour, count in mapped_data:\n",
        "        hour_counts[hour] += count\n",
        "    return hour_counts\n"
      ],
      "metadata": {
        "id": "ro-UctCH21VY"
      },
      "execution_count": 12,
      "outputs": []
    },
    {
      "cell_type": "code",
      "source": [
        "def url_mapper(line):\n",
        "    fields = line.strip().split(\",\")\n",
        "    url = fields[3]\n",
        "    yield (url, 1)\n",
        "\n",
        "def url_reducer(mapped_data):\n",
        "    url_counts = defaultdict(int)\n",
        "    for url, count in mapped_data:\n",
        "        url_counts[url] += count\n",
        "    return url_counts"
      ],
      "metadata": {
        "id": "ccndoIQp3HOI"
      },
      "execution_count": 13,
      "outputs": []
    },
    {
      "cell_type": "code",
      "source": [
        "def session_mapper(line):\n",
        "    fields = line.strip().split(\",\")\n",
        "    user_id = fields[1]\n",
        "    session_duration = int(fields[5])\n",
        "    yield (user_id, session_duration)\n",
        "\n",
        "def session_reducer(mapped_data):\n",
        "    user_sessions = defaultdict(list)\n",
        "    for user_id, duration in mapped_data:\n",
        "        user_sessions[user_id].append(duration)\n",
        "    # Calculate average per user\n",
        "    user_avg_duration = {}\n",
        "    for user_id, durations in user_sessions.items():\n",
        "        user_avg_duration[user_id] = sum(durations) / len(durations)\n",
        "    return user_avg_duration\n"
      ],
      "metadata": {
        "id": "xxVNu7i43KJw"
      },
      "execution_count": 14,
      "outputs": []
    },
    {
      "cell_type": "code",
      "source": [
        "def error_mapper(line):\n",
        "    fields = line.strip().split(\",\")\n",
        "    url = fields[3]\n",
        "    response_code = int(fields[4])\n",
        "    if response_code >= 400:  # Considering 400 and 500 series as errors\n",
        "        yield (url, 1)\n",
        "\n",
        "def error_reducer(mapped_data):\n",
        "    error_counts = defaultdict(int)\n",
        "    for url, count in mapped_data:\n",
        "        error_counts[url] += count\n",
        "    return error_counts"
      ],
      "metadata": {
        "id": "_85Z8wO53OBE"
      },
      "execution_count": 15,
      "outputs": []
    },
    {
      "cell_type": "code",
      "source": [
        "# Run each MapReduce job\n",
        "\n",
        "# Peak Traffic Analysis\n",
        "mapped_data = [(hour, 1) for hour in df['timestamp'].apply(lambda x: pd.to_datetime(x).hour)]\n",
        "peak_traffic = traffic_reducer(mapped_data)\n",
        "print(\"Peak Traffic per Hour:\", peak_traffic)\n",
        "\n",
        "# Most Visited Pages\n",
        "mapped_data = [(url, 1) for url in df['url']]\n",
        "most_visited = url_reducer(mapped_data)\n",
        "print(\"Most Visited Pages:\", most_visited)\n",
        "\n",
        "# Average Session Duration per User\n",
        "mapped_data = [(user_id, duration) for user_id, duration in zip(df['user_id'], df['session_duration'])]\n",
        "avg_session = session_reducer(mapped_data)\n",
        "print(\"Average Session Duration per User:\", avg_session)\n",
        "\n",
        "# Error Rate Analysis\n",
        "mapped_data = [(url, 1) for url, response_code in zip(df['url'], df['response_code']) if response_code >= 400]\n",
        "error_rates = error_reducer(mapped_data)\n",
        "print(\"Error Rate per URL:\", error_rates)"
      ],
      "metadata": {
        "colab": {
          "base_uri": "https://localhost:8080/"
        },
        "id": "0rc7gwft3VwY",
        "outputId": "db9779dd-1498-4cfa-b2aa-2087facd2607"
      },
      "execution_count": 16,
      "outputs": [
        {
          "output_type": "stream",
          "name": "stdout",
          "text": [
            "Peak Traffic per Hour: defaultdict(<class 'int'>, {9: 392, 6: 413, 1: 460, 10: 399, 19: 413, 15: 465, 23: 382, 4: 424, 12: 399, 18: 463, 5: 421, 21: 383, 20: 418, 13: 430, 2: 430, 16: 406, 11: 435, 14: 418, 22: 415, 0: 416, 7: 420, 17: 403, 8: 401, 3: 394})\n",
            "Most Visited Pages: defaultdict(<class 'int'>, {'/home': 1662, '/contact': 1688, '/cart': 1669, '/checkout': 1662, '/about': 1662, '/products': 1657})\n",
            "Average Session Duration per User: {'user_045': 152.01030927835052, 'user_084': 154.3272727272727, 'user_057': 141.858407079646, 'user_042': 146.76237623762376, 'user_092': 177.29787234042553, 'user_056': 138.03061224489795, 'user_047': 149.62280701754386, 'user_062': 155.8640776699029, 'user_014': 146.96470588235294, 'user_020': 160.77981651376146, 'user_003': 155.03157894736842, 'user_021': 155.39285714285714, 'user_097': 159.8372093023256, 'user_080': 165.86516853932585, 'user_038': 155.3153153153153, 'user_059': 158.33644859813083, 'user_011': 152.3009708737864, 'user_067': 160.45544554455446, 'user_071': 160.90322580645162, 'user_048': 167.0686274509804, 'user_009': 172.37078651685394, 'user_095': 150.65263157894736, 'user_052': 164.07954545454547, 'user_060': 148.75, 'user_064': 147.21782178217822, 'user_082': 163.62037037037038, 'user_035': 157.18478260869566, 'user_013': 157.49557522123894, 'user_030': 150.66336633663366, 'user_100': 156.05494505494505, 'user_093': 154.0888888888889, 'user_099': 156.8709677419355, 'user_028': 146.84415584415584, 'user_098': 168.43617021276594, 'user_076': 146.55208333333334, 'user_010': 166.90277777777777, 'user_017': 156.56, 'user_036': 141.49514563106797, 'user_063': 161.57983193277312, 'user_002': 160.9278350515464, 'user_058': 173.0, 'user_079': 147.43617021276594, 'user_088': 145.19, 'user_029': 165.96946564885496, 'user_054': 155.1315789473684, 'user_034': 153.91304347826087, 'user_025': 151.5188679245283, 'user_090': 157.60919540229884, 'user_089': 160.91666666666666, 'user_031': 148.0841121495327, 'user_068': 156.59130434782608, 'user_046': 149.04166666666666, 'user_044': 175.90740740740742, 'user_019': 156.36752136752136, 'user_074': 171.7058823529412, 'user_086': 143.49019607843138, 'user_077': 154.9902912621359, 'user_081': 142.0096153846154, 'user_040': 157.73, 'user_004': 168.87272727272727, 'user_049': 157.11111111111111, 'user_037': 147.9816513761468, 'user_018': 144.64150943396226, 'user_096': 164.82417582417582, 'user_078': 161.8131868131868, 'user_087': 148.10344827586206, 'user_015': 152.07368421052632, 'user_027': 149.4090909090909, 'user_051': 165.5728155339806, 'user_001': 149.1875, 'user_061': 164.14166666666668, 'user_016': 158.37037037037038, 'user_012': 157.125, 'user_026': 157.1, 'user_024': 167.18627450980392, 'user_066': 159.77, 'user_050': 154.07619047619048, 'user_039': 157.07692307692307, 'user_073': 145.46153846153845, 'user_023': 146.40594059405942, 'user_005': 152.44642857142858, 'user_083': 147.73394495412845, 'user_032': 139.84444444444443, 'user_008': 163.91743119266056, 'user_094': 140.4255319148936, 'user_055': 165.12244897959184, 'user_091': 131.9111111111111, 'user_022': 136.22916666666666, 'user_053': 142.04040404040404, 'user_007': 169.1764705882353, 'user_075': 162.05102040816325, 'user_041': 141.4851485148515, 'user_070': 147.89247311827958, 'user_072': 159.25806451612902, 'user_069': 168.02105263157895, 'user_065': 147.76530612244898, 'user_085': 151.66037735849056, 'user_006': 150.70833333333334, 'user_043': 148.07079646017698, 'user_033': 147.07339449541286}\n",
            "Error Rate per URL: defaultdict(<class 'int'>, {'/contact': 673, '/home': 674, '/about': 666, '/products': 671, '/cart': 627, '/checkout': 667})\n"
          ]
        }
      ]
    }
  ]
}