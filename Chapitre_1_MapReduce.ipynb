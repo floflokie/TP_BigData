{
  "nbformat": 4,
  "nbformat_minor": 0,
  "metadata": {
    "colab": {
      "provenance": []
    },
    "kernelspec": {
      "name": "python3",
      "display_name": "Python 3"
    },
    "language_info": {
      "name": "python"
    }
  },
  "cells": [
    {
      "cell_type": "markdown",
      "source": [
        "# TP : Simplified MapReduce"
      ],
      "metadata": {
        "id": "qQJjRQYe5f3_"
      }
    },
    {
      "cell_type": "markdown",
      "source": [
        "In this scenario, imagine you’re working for a popular e-commerce site.\n",
        "\n",
        "Understanding when traffic is at its peak helps inform decisions about server scaling, marketing strategies, and customer support. The MapReduce job here processes large volumes of server logs to extract hourly traffic counts, providing insights into which times see the most user activity.\n",
        "\n",
        "By analyzing page visit counts, the company can optimize popular pages, adjust advertising placements, and improve user experience on high-traffic pages. This MapReduce job counts the number of times each URL is accessed, revealing the most visited pages.\n",
        "\n",
        "Understanding user engagement helps tailor site features and marketing efforts. The goal is to calculate the mean session duration for each unique user, indicating how long users are staying and engaging with the website’s content.\n",
        "\n",
        "By tracking error response codes (like 404 or 500) associated with URLs, the company can prioritize bug fixes and improve user experience on critical pages. This analysis supports backend optimization by isolating pages where users encounter issues.\n",
        "\n",
        "\n",
        "1. \"Using the traffic data, at what time does the website experience its peak load, and how can this insight guide server capacity planning?\"\n",
        "\n",
        "Mapper: Extracts the hour from each timestamp and emits a (hour, 1) pair.\n",
        "Reducer: Aggregates the counts by hour, outputting {hour: request_count, ...} to show peak traffic times.\n",
        "\n",
        "2. \"What are the top 3 most-visited pages on the site, and how could this information affect design decisions?\"\n",
        "\n",
        "Mapper: Maps each URL from a log entry to (url, 1).\n",
        "Reducer: Aggregates counts per URL, resulting in {url: visit_count, ...} for a popularity ranking of pages.\n",
        "\n",
        "3. \"Which users show the highest average session durations, and what might this suggest about their engagement levels?\"\n",
        "\n",
        "Mapper: Maps each user ID to (user_id, session_duration) from each log entry.\n",
        "Reducer: Aggregates the durations by user, providing {user_id: average_duration, ...} for understanding user engagement patterns.\n",
        "\n",
        "4. \"Which URLs have the highest error rates, and how should the engineering team prioritize fixes?\"\n",
        "\n",
        "Mapper: Maps URLs with error response codes (>=400) to (url, 1).\n",
        "Reducer: Counts errors per URL, yielding {url: error_count, ...} to identify problematic pages needing attention.\n",
        "\n",
        "Since we’re using Google Colab with limited resources, the MapReduce operations can be simulated simulated, applying the mapper and reducer logic, and printing the results."
      ],
      "metadata": {
        "id": "aI70b3al4fcK"
      }
    },
    {
      "cell_type": "code",
      "execution_count": 1,
      "metadata": {
        "id": "sGv_o2052wvI"
      },
      "outputs": [],
      "source": [
        "import random\n",
        "from datetime import datetime, timedelta\n",
        "import pandas as pd\n",
        "\n",
        "# Parameters\n",
        "num_records = 10000\n",
        "user_ids = [f\"user_{i:03}\" for i in range(1, 101)]\n",
        "urls = [\"/home\", \"/products\", \"/contact\", \"/about\", \"/cart\", \"/checkout\"]\n",
        "response_codes = [200, 200, 200, 404, 500]  # Higher chance of 200 for realistic data\n",
        "ip_addresses = [f\"192.168.1.{i}\" for i in range(1, 101)]\n",
        "user_agents = [\"Mozilla/5.0\", \"Chrome/90.0\", \"Safari/537.36\", \"Edge/85.0\"]\n",
        "\n",
        "# Function to generate random timestamp\n",
        "def random_timestamp(start, end):\n",
        "    return (start + timedelta(seconds=random.randint(0, int((end - start).total_seconds())))).isoformat()\n",
        "\n",
        "# Data generation\n",
        "data = []\n",
        "start_time = datetime(2023, 1, 1)\n",
        "end_time = datetime(2023, 10, 1)\n",
        "\n",
        "for _ in range(num_records):\n",
        "    log_entry = {\n",
        "        \"timestamp\": random_timestamp(start_time, end_time),\n",
        "        \"user_id\": random.choice(user_ids),\n",
        "        \"ip_address\": random.choice(ip_addresses),\n",
        "        \"url\": random.choice(urls),\n",
        "        \"response_code\": random.choice(response_codes),\n",
        "        \"session_duration\": random.randint(10, 300),  # in seconds\n",
        "        \"user_agent\": random.choice(user_agents)\n",
        "    }\n",
        "    data.append(log_entry)\n"
      ]
    },
    {
      "cell_type": "markdown",
      "source": [
        "TODO : convert \"data\" list to pandas DataFrame"
      ],
      "metadata": {
        "id": "Dt7XauHp3cur"
      }
    },
    {
      "cell_type": "code",
      "source": [
        "#df ="
      ],
      "metadata": {
        "id": "EH77_WMB3gvc"
      },
      "execution_count": 2,
      "outputs": []
    },
    {
      "cell_type": "markdown",
      "source": [
        "TODO :\n",
        "\n",
        "Peak Traffic Analysis: Identify the busiest hours.\n",
        "\n",
        "Most Visited Pages: Count visits per URL.\n",
        "\n",
        "Average Session Duration: Calculate average session duration per user.\n",
        "\n",
        "Error Rate: Track and analyze URLs with high error response rates (e.g., 404 or 500).\n",
        "\n",
        "Fill in the blanks in the code"
      ],
      "metadata": {
        "id": "8YghPfzS25dV"
      }
    },
    {
      "cell_type": "code",
      "source": [
        "from datetime import datetime\n",
        "from collections import defaultdict\n",
        "\n",
        "def traffic_mapper(line):\n",
        "    fields = line.strip().split(\",\")\n",
        "    timestamp = fields[0]\n",
        "    #hour =\n",
        "    yield (hour, 1)\n",
        "\n",
        "def traffic_reducer(mapped_data):\n",
        "    hour_counts = defaultdict(int)\n",
        "    for hour, count in mapped_data:\n",
        "        hour_counts[hour] += count\n",
        "    return hour_counts\n"
      ],
      "metadata": {
        "id": "ro-UctCH21VY"
      },
      "execution_count": 3,
      "outputs": []
    },
    {
      "cell_type": "code",
      "source": [
        "def url_mapper(line):\n",
        "    fields = line.strip().split(\",\")\n",
        "    url = fields[3]\n",
        "    yield (url, 1)\n",
        "\n",
        "def url_reducer(mapped_data):\n",
        "    url_counts = defaultdict(int)\n",
        "    for url, count in mapped_data:\n",
        "        url_counts[url] += count\n",
        "    return url_counts"
      ],
      "metadata": {
        "id": "ccndoIQp3HOI"
      },
      "execution_count": 4,
      "outputs": []
    },
    {
      "cell_type": "code",
      "source": [
        "def session_mapper(line):\n",
        "    fields = line.strip().split(\",\")\n",
        "    user_id = fields[1]\n",
        "    session_duration = int(fields[5])\n",
        "    yield (user_id, session_duration)\n",
        "\n",
        "def session_reducer(mapped_data):\n",
        "    user_sessions = defaultdict(list)\n",
        "    for user_id, duration in mapped_data:\n",
        "        user_sessions[user_id].append(duration)\n",
        "    # Calculate average per user\n",
        "    # user_avg_duration =\n",
        "    return user_avg_duration\n"
      ],
      "metadata": {
        "id": "xxVNu7i43KJw"
      },
      "execution_count": 5,
      "outputs": []
    },
    {
      "cell_type": "code",
      "source": [
        "def error_mapper(line):\n",
        "    fields = line.strip().split(\",\")\n",
        "    url = fields[3]\n",
        "    response_code = int(fields[4])\n",
        "    if response_code >= 400:  # Considering 400 and 500 series as errors\n",
        "        yield (url, 1)\n",
        "\n",
        "def error_reducer(mapped_data):\n",
        "    error_counts = defaultdict(int)\n",
        "    for url, count in mapped_data:\n",
        "        error_counts[url] += count\n",
        "    return error_counts"
      ],
      "metadata": {
        "id": "_85Z8wO53OBE"
      },
      "execution_count": 6,
      "outputs": []
    },
    {
      "cell_type": "code",
      "source": [
        "# Run each MapReduce job\n",
        "\n",
        "Peak Traffic Analysis\n",
        "mapped_data = [(hour, 1) for hour in df['timestamp'].apply(lambda x: pd.to_datetime(x).hour)]\n",
        "peak_traffic = traffic_reducer(mapped_data)\n",
        "print(\"Peak Traffic per Hour:\", peak_traffic)\n",
        "\n",
        "# Most Visited Pages\n",
        "mapped_data = [(url, 1) for url in df['url']]\n",
        "most_visited = url_reducer(mapped_data)\n",
        "print(\"Most Visited Pages:\", most_visited)\n",
        "\n",
        "# Average Session Duration per User\n",
        "mapped_data = [(user_id, duration) for user_id, duration in zip(df['user_id'], df['session_duration'])]\n",
        "avg_session = session_reducer(mapped_data)\n",
        "print(\"Average Session Duration per User:\", avg_session)\n",
        "\n",
        "# Error Rate Analysis\n",
        "mapped_data = [(url, 1) for url, response_code in zip(df['url'], df['response_code']) if response_code >= 400]\n",
        "error_rates = error_reducer(mapped_data)\n",
        "print(\"Error Rate per URL:\", error_rates)"
      ],
      "metadata": {
        "colab": {
          "base_uri": "https://localhost:8080/"
        },
        "id": "0rc7gwft3VwY",
        "outputId": "c8a18266-ee5a-4855-d23e-cb51ce002e43"
      },
      "execution_count": 7,
      "outputs": [
        {
          "output_type": "stream",
          "name": "stdout",
          "text": [
            "Peak Traffic per Hour: defaultdict(<class 'int'>, {11: 451, 0: 393, 3: 412, 15: 426, 14: 397, 23: 403, 6: 391, 4: 429, 9: 443, 8: 438, 17: 408, 22: 425, 2: 447, 20: 423, 16: 395, 18: 405, 5: 395, 13: 434, 21: 407, 19: 362, 7: 416, 1: 417, 12: 450, 10: 433})\n",
            "Most Visited Pages: defaultdict(<class 'int'>, {'/cart': 1608, '/contact': 1684, '/home': 1649, '/checkout': 1639, '/about': 1741, '/products': 1679})\n",
            "Average Session Duration per User: {'user_090': 169.90526315789472, 'user_029': 160.67768595041323, 'user_078': 161.17045454545453, 'user_028': 148.47619047619048, 'user_040': 143.05102040816325, 'user_096': 168.8190476190476, 'user_063': 157.63106796116506, 'user_051': 159.9090909090909, 'user_024': 155.89565217391305, 'user_066': 157.62222222222223, 'user_019': 158.0782608695652, 'user_080': 148.8252427184466, 'user_056': 164.51041666666666, 'user_037': 154.16190476190476, 'user_094': 149.46153846153845, 'user_086': 157.65853658536585, 'user_021': 142.56, 'user_010': 136.55652173913043, 'user_007': 165.58035714285714, 'user_005': 163.09803921568627, 'user_013': 151.3298969072165, 'user_048': 152.15315315315314, 'user_081': 154.6451612903226, 'user_047': 164.0, 'user_004': 157.4536082474227, 'user_032': 137.4536082474227, 'user_088': 151.37777777777777, 'user_008': 154.5581395348837, 'user_073': 158.30434782608697, 'user_084': 165.54545454545453, 'user_065': 164.33663366336634, 'user_057': 163.97222222222223, 'user_052': 152.98058252427185, 'user_033': 147.86363636363637, 'user_012': 183.76190476190476, 'user_058': 163.88659793814432, 'user_071': 166.09782608695653, 'user_070': 169.01869158878506, 'user_039': 157.8050847457627, 'user_003': 151.07207207207207, 'user_083': 156.94, 'user_011': 157.40860215053763, 'user_023': 161.19148936170214, 'user_036': 165.06593406593407, 'user_067': 157.64705882352942, 'user_074': 171.8021978021978, 'user_002': 149.55434782608697, 'user_014': 158.4945054945055, 'user_001': 151.15841584158414, 'user_072': 153.3953488372093, 'user_079': 170.9795918367347, 'user_006': 164.38202247191012, 'user_069': 147.26315789473685, 'user_091': 139.57575757575756, 'user_098': 142.4607843137255, 'user_044': 149.7904761904762, 'user_009': 159.2135922330097, 'user_059': 158.0373831775701, 'user_015': 146.66315789473686, 'user_046': 157.8131868131868, 'user_041': 174.2659574468085, 'user_027': 160.61764705882354, 'user_034': 158.7289719626168, 'user_060': 165.16037735849056, 'user_050': 136.19, 'user_100': 154.77391304347827, 'user_038': 154.5648148148148, 'user_035': 146.64893617021278, 'user_064': 157.54347826086956, 'user_097': 152.46017699115043, 'user_077': 158.81730769230768, 'user_030': 150.16981132075472, 'user_022': 165.39449541284404, 'user_075': 156.36363636363637, 'user_031': 150.2596153846154, 'user_087': 155.11458333333334, 'user_085': 152.25882352941176, 'user_054': 142.73684210526315, 'user_053': 144.9090909090909, 'user_062': 163.8125, 'user_043': 158.96470588235294, 'user_095': 156.91666666666666, 'user_092': 150.55084745762713, 'user_018': 150.19387755102042, 'user_045': 149.7391304347826, 'user_089': 145.31460674157304, 'user_093': 154.49397590361446, 'user_020': 139.30526315789473, 'user_068': 148.0891089108911, 'user_049': 169.7157894736842, 'user_055': 157.53398058252426, 'user_025': 154.72277227722773, 'user_042': 162.20792079207922, 'user_099': 151.02197802197801, 'user_017': 143.91346153846155, 'user_026': 150.62765957446808, 'user_076': 157.76315789473685, 'user_016': 168.5050505050505, 'user_061': 165.2450980392157, 'user_082': 168.32967032967034}\n",
            "Error Rate per URL: defaultdict(<class 'int'>, {'/contact': 682, '/products': 705, '/home': 640, '/cart': 631, '/about': 719, '/checkout': 652})\n"
          ]
        }
      ]
    }
  ]
}