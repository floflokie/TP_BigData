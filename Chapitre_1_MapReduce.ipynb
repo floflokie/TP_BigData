{
  "nbformat": 4,
  "nbformat_minor": 0,
  "metadata": {
    "colab": {
      "provenance": []
    },
    "kernelspec": {
      "name": "python3",
      "display_name": "Python 3"
    },
    "language_info": {
      "name": "python"
    }
  },
  "cells": [
    {
      "cell_type": "markdown",
      "source": [
        "# TP : Simplified MapReduce"
      ],
      "metadata": {
        "id": "qQJjRQYe5f3_"
      }
    },
    {
      "cell_type": "markdown",
      "source": [
        "In this scenario, imagine you’re working for a popular e-commerce site.\n",
        "\n",
        "Understanding when traffic is at its peak helps inform decisions about server scaling, marketing strategies, and customer support. The MapReduce job here processes large volumes of server logs to extract hourly traffic counts, providing insights into which times see the most user activity.\n",
        "\n",
        "By analyzing page visit counts, the company can optimize popular pages, adjust advertising placements, and improve user experience on high-traffic pages. This MapReduce job counts the number of times each URL is accessed, revealing the most visited pages.\n",
        "\n",
        "Understanding user engagement helps tailor site features and marketing efforts. The goal is to calculate the mean session duration for each unique user, indicating how long users are staying and engaging with the website’s content.\n",
        "\n",
        "By tracking error response codes (like 404 or 500) associated with URLs, the company can prioritize bug fixes and improve user experience on critical pages. This analysis supports backend optimization by isolating pages where users encounter issues.\n",
        "\n",
        "\n",
        "1. \"Using the traffic data, at what time does the website experience its peak load, and how can this insight guide server capacity planning?\"\n",
        "\n",
        "Mapper: Extracts the hour from each timestamp and emits a (hour, 1) pair.\n",
        "Reducer: Aggregates the counts by hour, outputting {hour: request_count, ...} to show peak traffic times.\n",
        "\n",
        "2. \"What are the top 3 most-visited pages on the site, and how could this information affect design decisions?\"\n",
        "\n",
        "Mapper: Maps each URL from a log entry to (url, 1).\n",
        "Reducer: Aggregates counts per URL, resulting in {url: visit_count, ...} for a popularity ranking of pages.\n",
        "\n",
        "3. \"Which users show the highest average session durations, and what might this suggest about their engagement levels?\"\n",
        "\n",
        "Mapper: Maps each user ID to (user_id, session_duration) from each log entry.\n",
        "Reducer: Aggregates the durations by user, providing {user_id: average_duration, ...} for understanding user engagement patterns.\n",
        "\n",
        "4. \"Which URLs have the highest error rates, and how should the engineering team prioritize fixes?\"\n",
        "\n",
        "Mapper: Maps URLs with error response codes (>=400) to (url, 1).\n",
        "Reducer: Counts errors per URL, yielding {url: error_count, ...} to identify problematic pages needing attention.\n",
        "\n",
        "Since we’re using Google Colab with limited resources, the MapReduce operations can be simulated simulated, applying the mapper and reducer logic, and printing the results."
      ],
      "metadata": {
        "id": "aI70b3al4fcK"
      }
    },
    {
      "cell_type": "code",
      "execution_count": 2,
      "metadata": {
        "id": "sGv_o2052wvI"
      },
      "outputs": [],
      "source": [
        "import random\n",
        "from datetime import datetime, timedelta\n",
        "import pandas as pd\n",
        "\n",
        "# Parameters\n",
        "num_records = 10000\n",
        "user_ids = [f\"user_{i:03}\" for i in range(1, 101)]\n",
        "urls = [\"/home\", \"/products\", \"/contact\", \"/about\", \"/cart\", \"/checkout\"]\n",
        "response_codes = [200, 200, 200, 404, 500]  # Higher chance of 200 for realistic data\n",
        "ip_addresses = [f\"192.168.1.{i}\" for i in range(1, 101)]\n",
        "user_agents = [\"Mozilla/5.0\", \"Chrome/90.0\", \"Safari/537.36\", \"Edge/85.0\"]\n",
        "\n",
        "# Function to generate random timestamp\n",
        "def random_timestamp(start, end):\n",
        "    return (start + timedelta(seconds=random.randint(0, int((end - start).total_seconds())))).isoformat()\n",
        "\n",
        "# Data generation\n",
        "data = []\n",
        "start_time = datetime(2023, 1, 1)\n",
        "end_time = datetime(2023, 10, 1)\n",
        "\n",
        "for _ in range(num_records):\n",
        "    log_entry = {\n",
        "        \"timestamp\": random_timestamp(start_time, end_time),\n",
        "        \"user_id\": random.choice(user_ids),\n",
        "        \"ip_address\": random.choice(ip_addresses),\n",
        "        \"url\": random.choice(urls),\n",
        "        \"response_code\": random.choice(response_codes),\n",
        "        \"session_duration\": random.randint(10, 300),  # in seconds\n",
        "        \"user_agent\": random.choice(user_agents)\n",
        "    }\n",
        "    data.append(log_entry)\n"
      ]
    },
    {
      "cell_type": "markdown",
      "source": [
        "TODO : convert \"data\" list to pandas DataFrame"
      ],
      "metadata": {
        "id": "Dt7XauHp3cur"
      }
    },
    {
      "cell_type": "code",
      "source": [
        "df = pd.DataFrame(data)"
      ],
      "metadata": {
        "id": "EH77_WMB3gvc"
      },
      "execution_count": 3,
      "outputs": []
    },
    {
      "cell_type": "markdown",
      "source": [
        "TODO :\n",
        "\n",
        "Peak Traffic Analysis: Identify the busiest hours.\n",
        "\n",
        "Most Visited Pages: Count visits per URL.\n",
        "\n",
        "Average Session Duration: Calculate average session duration per user.\n",
        "\n",
        "Error Rate: Track and analyze URLs with high error response rates (e.g., 404 or 500).\n",
        "\n",
        "Fill in the blanks in the code"
      ],
      "metadata": {
        "id": "8YghPfzS25dV"
      }
    },
    {
      "cell_type": "code",
      "source": [
        "from datetime import datetime\n",
        "from collections import defaultdict\n",
        "\n",
        "def traffic_mapper(line):\n",
        "    fields = line.strip().split(\",\")\n",
        "    timestamp = fields[0]\n",
        "    #hour =\n",
        "    yield (hour, 1)\n",
        "\n",
        "def traffic_reducer(mapped_data):\n",
        "    hour_counts = defaultdict(int)\n",
        "    for hour, count in mapped_data:\n",
        "        hour_counts[hour] += count\n",
        "    return hour_counts\n"
      ],
      "metadata": {
        "id": "ro-UctCH21VY"
      },
      "execution_count": 4,
      "outputs": []
    },
    {
      "cell_type": "code",
      "source": [
        "def url_mapper(line):\n",
        "    fields = line.strip().split(\",\")\n",
        "    url = fields[3]\n",
        "    yield (url, 1)\n",
        "\n",
        "def url_reducer(mapped_data):\n",
        "    url_counts = defaultdict(int)\n",
        "    for url, count in mapped_data:\n",
        "        url_counts[url] += count\n",
        "    return url_counts"
      ],
      "metadata": {
        "id": "ccndoIQp3HOI"
      },
      "execution_count": 5,
      "outputs": []
    },
    {
      "cell_type": "code",
      "source": [
        "def session_mapper(line):\n",
        "    fields = line.strip().split(\",\")\n",
        "    user_id = fields[1]\n",
        "    session_duration = int(fields[5])\n",
        "    yield (user_id, session_duration)\n",
        "\n",
        "def session_reducer(mapped_data):\n",
        "    user_sessions = defaultdict(list)\n",
        "    for user_id, duration in mapped_data:\n",
        "        user_sessions[user_id].append(duration)\n",
        "    # Calculate average per user\n",
        "    user_avg_duration = {}\n",
        "    for user_id, durations in user_sessions.items():\n",
        "        user_avg_duration[user_id] = sum(durations) / len(durations)\n",
        "    return user_avg_duration\n"
      ],
      "metadata": {
        "id": "xxVNu7i43KJw"
      },
      "execution_count": 6,
      "outputs": []
    },
    {
      "cell_type": "code",
      "source": [
        "def error_mapper(line):\n",
        "    fields = line.strip().split(\",\")\n",
        "    url = fields[3]\n",
        "    response_code = int(fields[4])\n",
        "    if response_code >= 400:  # Considering 400 and 500 series as errors\n",
        "        yield (url, 1)\n",
        "\n",
        "def error_reducer(mapped_data):\n",
        "    error_counts = defaultdict(int)\n",
        "    for url, count in mapped_data:\n",
        "        error_counts[url] += count\n",
        "    return error_counts"
      ],
      "metadata": {
        "id": "_85Z8wO53OBE"
      },
      "execution_count": 7,
      "outputs": []
    },
    {
      "cell_type": "code",
      "source": [
        "# Run each MapReduce job\n",
        "\n",
        "# Peak Traffic Analysis\n",
        "mapped_data = [(hour, 1) for hour in df['timestamp'].apply(lambda x: pd.to_datetime(x).hour)]\n",
        "peak_traffic = traffic_reducer(mapped_data)\n",
        "print(\"Peak Traffic per Hour:\", peak_traffic)\n",
        "\n",
        "# Most Visited Pages\n",
        "mapped_data = [(url, 1) for url in df['url']]\n",
        "most_visited = url_reducer(mapped_data)\n",
        "print(\"Most Visited Pages:\", most_visited)\n",
        "\n",
        "# Average Session Duration per User\n",
        "mapped_data = [(user_id, duration) for user_id, duration in zip(df['user_id'], df['session_duration'])]\n",
        "avg_session = session_reducer(mapped_data)\n",
        "print(\"Average Session Duration per User:\", avg_session)\n",
        "\n",
        "# Error Rate Analysis\n",
        "mapped_data = [(url, 1) for url, response_code in zip(df['url'], df['response_code']) if response_code >= 400]\n",
        "error_rates = error_reducer(mapped_data)\n",
        "print(\"Error Rate per URL:\", error_rates)"
      ],
      "metadata": {
        "colab": {
          "base_uri": "https://localhost:8080/"
        },
        "id": "0rc7gwft3VwY",
        "outputId": "f372a54f-32ff-48b9-c4b0-debcd06064ba"
      },
      "execution_count": 9,
      "outputs": [
        {
          "output_type": "stream",
          "name": "stdout",
          "text": [
            "Peak Traffic per Hour: defaultdict(<class 'int'>, {12: 416, 19: 385, 21: 385, 8: 409, 6: 409, 18: 404, 7: 422, 23: 369, 4: 418, 0: 423, 5: 467, 15: 432, 14: 423, 17: 431, 11: 421, 22: 395, 9: 413, 20: 442, 3: 410, 10: 427, 1: 440, 16: 422, 2: 398, 13: 439})\n",
            "Most Visited Pages: defaultdict(<class 'int'>, {'/checkout': 1697, '/about': 1647, '/cart': 1699, '/home': 1603, '/contact': 1680, '/products': 1674})\n",
            "Average Session Duration per User: {'user_010': 159.0204081632653, 'user_086': 158.83157894736843, 'user_033': 152.04761904761904, 'user_093': 158.9902912621359, 'user_079': 149.42424242424244, 'user_076': 159.32407407407408, 'user_011': 152.93396226415095, 'user_051': 172.1818181818182, 'user_039': 161.5108695652174, 'user_052': 151.69791666666666, 'user_078': 162.48809523809524, 'user_096': 148.96396396396398, 'user_029': 167.77570093457945, 'user_050': 145.38888888888889, 'user_005': 158.85470085470087, 'user_040': 154.96363636363637, 'user_024': 154.7159090909091, 'user_100': 153.02912621359224, 'user_059': 154.0, 'user_090': 163.5, 'user_066': 151.96969696969697, 'user_026': 149.23157894736843, 'user_068': 151.9126213592233, 'user_021': 149.07368421052632, 'user_095': 148.5983606557377, 'user_023': 147.93693693693695, 'user_060': 154.48543689320388, 'user_077': 155.6235294117647, 'user_001': 151.74257425742573, 'user_048': 151.86486486486487, 'user_075': 166.2685185185185, 'user_012': 161.46315789473684, 'user_061': 156.81927710843374, 'user_044': 164.79, 'user_017': 173.50819672131146, 'user_049': 135.0222222222222, 'user_004': 144.44660194174756, 'user_036': 146.41379310344828, 'user_016': 157.43103448275863, 'user_019': 157.0, 'user_070': 158.46341463414635, 'user_069': 166.7191011235955, 'user_035': 144.63366336633663, 'user_028': 143.75, 'user_022': 156.05555555555554, 'user_002': 140.27272727272728, 'user_082': 156.16326530612244, 'user_043': 154.96808510638297, 'user_080': 162.99107142857142, 'user_006': 157.00980392156862, 'user_020': 152.59649122807016, 'user_054': 154.94845360824743, 'user_007': 152.175, 'user_088': 156.32478632478632, 'user_013': 149.65686274509804, 'user_089': 155.3578947368421, 'user_057': 150.6086956521739, 'user_062': 155.56451612903226, 'user_014': 146.83157894736843, 'user_063': 144.15662650602408, 'user_055': 170.92134831460675, 'user_034': 167.8131868131868, 'user_046': 155.80645161290323, 'user_099': 165.6315789473684, 'user_064': 158.46153846153845, 'user_072': 159.20430107526883, 'user_056': 155.91397849462365, 'user_073': 146.38532110091742, 'user_003': 156.23076923076923, 'user_015': 158.02298850574712, 'user_053': 165.6595744680851, 'user_074': 146.76237623762376, 'user_071': 150.69892473118279, 'user_018': 146.76991150442478, 'user_032': 140.29, 'user_038': 141.38317757009347, 'user_058': 151.57333333333332, 'user_097': 157.90721649484536, 'user_081': 142.2, 'user_085': 176.85576923076923, 'user_030': 162.1359223300971, 'user_092': 150.8780487804878, 'user_045': 158.38297872340425, 'user_098': 156.8736842105263, 'user_091': 159.95402298850576, 'user_009': 164.18823529411765, 'user_037': 162.72321428571428, 'user_087': 158.32692307692307, 'user_094': 146.58095238095237, 'user_047': 161.29464285714286, 'user_008': 153.38834951456312, 'user_067': 159.7375, 'user_042': 157.14953271028037, 'user_083': 159.58139534883722, 'user_031': 156.66304347826087, 'user_025': 158.141592920354, 'user_065': 141.13829787234042, 'user_027': 150.01075268817203, 'user_084': 147.1504424778761, 'user_041': 161.42528735632183}\n",
            "Error Rate per URL: defaultdict(<class 'int'>, {'/home': 649, '/cart': 693, '/checkout': 694, '/products': 668, '/contact': 680, '/about': 658})\n"
          ]
        }
      ]
    }
  ]
}